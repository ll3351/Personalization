{
 "cells": [
  {
   "cell_type": "code",
   "execution_count": 1,
   "metadata": {},
   "outputs": [
    {
     "data": {
      "text/plain": [
       "'/Users/liuhaoyue/Desktop'"
      ]
     },
     "execution_count": 1,
     "metadata": {},
     "output_type": "execute_result"
    }
   ],
   "source": [
    "import os\n",
    "os.getcwd()"
   ]
  },
  {
   "cell_type": "markdown",
   "metadata": {},
   "source": [
    "# Setup\n",
    "• Split the data by columns into features that you will use for prediction, X, and the feature you will try to predict (‘quality’), y\n",
    "\n",
    "• Split both X and y by rows into training sets a testing sets\n",
    "\n",
    "• Randomly split the data, keeping 80% of instances for training and 20% for testing\n",
    "\n",
    "• At the end, you should have 4 data sets: X_train, y_train, X_test, and y_test"
   ]
  },
  {
   "cell_type": "code",
   "execution_count": 2,
   "metadata": {},
   "outputs": [],
   "source": [
    "import pandas as pd\n",
    "import numpy as np\n",
    "import warnings\n",
    "import matplotlib.pyplot as plt\n",
    "from sklearn.utils import shuffle\n",
    "from scipy.optimize import minimize\n",
    "from sklearn.model_selection import train_test_split\n",
    "from sklearn.linear_model import Ridge,RidgeCV\n",
    "from sklearn.linear_model import Lasso,LassoCV\n",
    "from sklearn.metrics import mean_squared_error\n",
    "\n",
    "\n",
    "df = pd.read_csv('/Users/liuhaoyue/Desktop/courses/Personalization/HW/HW1/winequality-red.csv')\n",
    "df = df['fixed acidity;\"volatile acidity\";\"citric acid\";\"residual sugar\";\"chlorides\";\"free sulfur dioxide\";\"total sulfur dioxide\";\"density\";\"pH\";\"sulphates\";\"alcohol\";\"quality\"'].str.split(';',expand=True)\n",
    "df[\"fixed acidity\"],df[\"volatile acidity\"],df[\"citric acid\"],df['residual sugar'],df['chlorides'],df['free sulfur dioxide'],df['total sulfur dioxide'],df[\"density\"],df[\"pH\"],df[\"sulphates\"],df[\"alcohol\"],df[\"quality\"]=df[0],df[1],df[2],df[3],df[4],df[5],df[6],df[7],df[8],df[9],df[10],df[11]\n",
    "red = df[['fixed acidity','volatile acidity','citric acid','residual sugar','chlorides','free sulfur dioxide','total sulfur dioxide','density','pH','sulphates','alcohol','quality']]\n",
    "\n",
    "red.dtypes\n",
    "red = red.astype({\"fixed acidity\":\"float64\",\"volatile acidity\":\"float64\",\"citric acid\":\"float64\",\"residual sugar\":\"float64\",\"chlorides\":\"float64\",\"free sulfur dioxide\":\"float64\",\"total sulfur dioxide\":\"float64\",\"density\":\"float64\",\"pH\":\"float64\",\"sulphates\":\"float64\",\"alcohol\":\"float64\",\"quality\":\"float64\"})\n",
    "\n",
    "red = shuffle(red)\n",
    "X = red[[\"fixed acidity\",\"volatile acidity\",\"citric acid\",\"residual sugar\",\"chlorides\",\"free sulfur dioxide\",\"total sulfur dioxide\",\"density\",\"pH\",\"sulphates\",\"alcohol\"]]\n",
    "Y = red[[\"quality\"]]\n",
    "# X.shape #(1599, 11)\n",
    "\n",
    "# x_train = X[0:1280] #1599*0.8 = 1279.2\n",
    "# y_train = Y[0:1280]\n",
    "# x_test = X[1280:]\n",
    "# y_test = Y[1280:]\n",
    "x_train, x_test, y_train, y_test = train_test_split(X,Y, train_size = 0.8)\n"
   ]
  },
  {
   "cell_type": "markdown",
   "metadata": {},
   "source": [
    "# Regression equations and functions\n",
    "### • Write out two equations: \n",
    "\n",
    "(1) the equation for a the linear model that predicts y from X is:\n",
    "\n",
    "$$ \\widehat{y} = \\sum(x_j*β_j)$$\n",
    "\n",
    "(2) the equation for computing the Residual Sum of Squares (RSS) for the linear model, given data, vector x, and parameters, vector β is:\n",
    "\n",
    "$$ RSS(β) =\\sum(y_i-\\sum(x_{ij}*β_j))^2 = \\sum(y_i - \\widehat{y_i})^2$$\n"
   ]
  },
  {
   "cell_type": "markdown",
   "metadata": {},
   "source": [
    "### • Translate these equations into code in the form of two functions\n",
    "• The first function should compute the estimated value of y, which is y_hat, for particular values of x, and β. That is, there should be two arguments, one for the data and one for the linear function parameters.\n",
    "\n",
    "• The second function should compute the RSS for the first function"
   ]
  },
  {
   "cell_type": "code",
   "execution_count": 3,
   "metadata": {},
   "outputs": [],
   "source": [
    "def y_hat(x, β):\n",
    "    x = np.array(x)\n",
    "    y_h = np.dot(x, np.transpose(β))\n",
    "    return y_h"
   ]
  },
  {
   "cell_type": "code",
   "execution_count": 5,
   "metadata": {},
   "outputs": [],
   "source": [
    "# b = np.transpose(beta0)\n",
    "# print(np.array(x_train).shape)\n",
    "# print(b.shape)"
   ]
  },
  {
   "cell_type": "code",
   "execution_count": 6,
   "metadata": {},
   "outputs": [],
   "source": [
    "def RSS(β, x, y):\n",
    "    y = np.array(y.T)[0]\n",
    "    res = y - y_hat(x, β)\n",
    "    rss = np.sum(res**2)\n",
    "    return rss"
   ]
  },
  {
   "cell_type": "code",
   "execution_count": 7,
   "metadata": {},
   "outputs": [
    {
     "data": {
      "text/plain": [
       "(1279,)"
      ]
     },
     "execution_count": 7,
     "metadata": {},
     "output_type": "execute_result"
    }
   ],
   "source": [
    "# print(np.array(y_test).shape)\n",
    "np.array(y_train.T)[0].shape"
   ]
  },
  {
   "cell_type": "code",
   "execution_count": 9,
   "metadata": {},
   "outputs": [],
   "source": [
    "# np.array(np.dot(x_train,beta0)).shape"
   ]
  },
  {
   "cell_type": "markdown",
   "metadata": {},
   "source": [
    "# Optimizing the model\n",
    "### • Use Scipy’s minimize function to find the value of β that minimize the RSS\n",
    "\n",
    "### • Your call to minimize method will take three arguments:\n",
    "• (1) fun: the RSS function you defined above that you are trying to minimize\n",
    "\n",
    "• (2) x0: your initial values of β\n",
    "\n",
    "• (3) args: pass in all the data a tuple here. For example:\n",
    "\n",
    "• args=(y_train, X_train)\n",
    "\n",
    "• For the second argument you will need to initialize β to some starting value. Try using a random vector with Numpy random methods\n",
    "\n",
    "• numpy.random.normal(0, 1, X_train.shape[1]) • Your final set of functions to fit your model should have the form:\n",
    "           $$def  RSS(beta, X, y):$$\n",
    "  \n",
    "                                                   return <some_results>\n",
    "\n",
    "           res = minimize(fun=RSS, x0=beta0, args=(X_train,y_train))\n",
    "           beta_hat = res.x\n"
   ]
  },
  {
   "cell_type": "code",
   "execution_count": 10,
   "metadata": {},
   "outputs": [],
   "source": [
    "beta0 = np.random.normal(0, 1, x_train.shape[1])\n",
    "res = minimize(fun=RSS, x0=beta0, args=(x_train,y_train))\n",
    "beta_hat = res.x"
   ]
  },
  {
   "cell_type": "code",
   "execution_count": 11,
   "metadata": {},
   "outputs": [
    {
     "name": "stdout",
     "output_type": "stream",
     "text": [
      "531.5647890105664\n",
      "False\n",
      "[ 1.00870226e-02 -1.16202039e+00 -2.89860361e-01  1.62423283e-05\n",
      " -1.88804276e+00  4.63760016e-03 -3.63808155e-03  4.42401374e+00\n",
      " -4.83647405e-01  8.64565912e-01  2.99984358e-01]\n"
     ]
    }
   ],
   "source": [
    "print(res.fun)\n",
    "print(res.success)\n",
    "print(res.x)"
   ]
  },
  {
   "cell_type": "code",
   "execution_count": 12,
   "metadata": {},
   "outputs": [
    {
     "data": {
      "text/html": [
       "<div>\n",
       "<style scoped>\n",
       "    .dataframe tbody tr th:only-of-type {\n",
       "        vertical-align: middle;\n",
       "    }\n",
       "\n",
       "    .dataframe tbody tr th {\n",
       "        vertical-align: top;\n",
       "    }\n",
       "\n",
       "    .dataframe thead th {\n",
       "        text-align: right;\n",
       "    }\n",
       "</style>\n",
       "<table border=\"1\" class=\"dataframe\">\n",
       "  <thead>\n",
       "    <tr style=\"text-align: right;\">\n",
       "      <th></th>\n",
       "      <th>fixed acidity</th>\n",
       "      <th>volatile acidity</th>\n",
       "      <th>citric acid</th>\n",
       "      <th>residual sugar</th>\n",
       "      <th>chlorides</th>\n",
       "      <th>free sulfur dioxide</th>\n",
       "      <th>total sulfur dioxide</th>\n",
       "      <th>density</th>\n",
       "      <th>pH</th>\n",
       "      <th>sulphates</th>\n",
       "      <th>alcohol</th>\n",
       "    </tr>\n",
       "  </thead>\n",
       "  <tbody>\n",
       "    <tr>\n",
       "      <th>522</th>\n",
       "      <td>8.2</td>\n",
       "      <td>0.39</td>\n",
       "      <td>0.49</td>\n",
       "      <td>2.3</td>\n",
       "      <td>0.099</td>\n",
       "      <td>47.0</td>\n",
       "      <td>133.0</td>\n",
       "      <td>0.9979</td>\n",
       "      <td>3.38</td>\n",
       "      <td>0.99</td>\n",
       "      <td>9.8</td>\n",
       "    </tr>\n",
       "  </tbody>\n",
       "</table>\n",
       "</div>"
      ],
      "text/plain": [
       "     fixed acidity  volatile acidity  citric acid  residual sugar  chlorides  \\\n",
       "522            8.2              0.39         0.49             2.3      0.099   \n",
       "\n",
       "     free sulfur dioxide  total sulfur dioxide  density    pH  sulphates  \\\n",
       "522                 47.0                 133.0   0.9979  3.38       0.99   \n",
       "\n",
       "     alcohol  \n",
       "522      9.8  "
      ]
     },
     "execution_count": 12,
     "metadata": {},
     "output_type": "execute_result"
    }
   ],
   "source": [
    "x_train.head(1)"
   ]
  },
  {
   "cell_type": "code",
   "execution_count": 345,
   "metadata": {},
   "outputs": [
    {
     "name": "stdout",
     "output_type": "stream",
     "text": [
      "Mean:\n",
      "8.31963727329581 \n",
      " 0.5278205128205128 \n",
      " 0.2709756097560976 \n",
      " 2.53880550343965 \n",
      " 0.08746654158849282 \n",
      " 15.874921826141339 \n",
      " 46.46779237023139 \n",
      " 0.9967466791744841 \n",
      " 3.3111131957473416 \n",
      " 0.6581488430268919 \n",
      " 10.422983114446529\n",
      "\n",
      "Variance:\n",
      "3.0295205688671114 \n",
      " 0.0320423261333205 \n",
      " 0.037923751124940897 \n",
      " 1.9866539202698996 \n",
      " 0.0022137573233114347 \n",
      " 109.34645676374501 \n",
      " 1081.42563558916 \n",
      " 3.5598017926307083e-06 \n",
      " 0.023820274241131784 \n",
      " 0.028714647013983487 \n",
      " 1.1349371714889036\n"
     ]
    }
   ],
   "source": [
    "fixed_acidity_mean = np.mean(np.array([red['fixed acidity']]))\n",
    "volatile_acidity_mean = np.mean(np.array([red['volatile acidity']]))\n",
    "citric_acid_mean = np.mean(np.array([red['citric acid']]))\n",
    "residual_sugar_mean = np.mean(np.array([red['residual sugar']]))\n",
    "chlorides_mean = np.mean(np.array([red['chlorides']]))\n",
    "free_sulfur_dioxide_mean = np.mean(np.array([red['free sulfur dioxide']]))\n",
    "total_sulfur_dioxide_maen = np.mean(np.array([red['total sulfur dioxide']]))\n",
    "density_mean = np.mean(np.array([red['density']]))\n",
    "pH_mean = np.mean(np.array([red['pH']]))\n",
    "sulphates_mean = np.mean(np.array([red['sulphates']]))\n",
    "alcohol_mean = np.mean(np.array([red['alcohol']]))\n",
    "print(\"Mean:\")\n",
    "print(fixed_acidity_mean,'\\n',volatile_acidity_mean,'\\n',citric_acid_mean,'\\n',residual_sugar_mean,'\\n',chlorides_mean,'\\n',free_sulfur_dioxide_mean,'\\n',total_sulfur_dioxide_maen,'\\n',density_mean,'\\n',pH_mean,'\\n',sulphates_mean,'\\n',alcohol_mean)\n",
    "fixed_acidity_var = np.var(np.array([red['fixed acidity']]))\n",
    "volatile_acidity_var = np.var(np.array([red['volatile acidity']]))\n",
    "citric_acid_var = np.var(np.array([red['citric acid']]))\n",
    "residual_sugar_var = np.var(np.array([red['residual sugar']]))\n",
    "chlorides_var = np.var(np.array([red['chlorides']]))\n",
    "free_sulfur_dioxide_var = np.var(np.array([red['free sulfur dioxide']]))\n",
    "total_sulfur_dioxide_var = np.var(np.array([red['total sulfur dioxide']]))\n",
    "density_var = np.var(np.array([red['density']]))\n",
    "pH_var = np.var(np.array([red['pH']]))\n",
    "sulphates_var = np.var(np.array([red['sulphates']]))\n",
    "alcohol_var = np.var(np.array([red['alcohol']]))\n",
    "print()\n",
    "print(\"Variance:\")\n",
    "print(fixed_acidity_var,'\\n',volatile_acidity_var,'\\n',citric_acid_var,'\\n',residual_sugar_var,'\\n',chlorides_var,'\\n',free_sulfur_dioxide_var,'\\n',total_sulfur_dioxide_var,'\\n',density_var,'\\n',pH_var,'\\n',sulphates_var,'\\n',alcohol_var)\n"
   ]
  },
  {
   "cell_type": "markdown",
   "metadata": {},
   "source": [
    "# Questions and Answers\n",
    "#### Q1:What are the qualitative results from your model? Which features seem to be most important? Do you think that the magnitude of the features in X may affect the results (for example, the average total sulfur dioxide across all wines is 46.47, but the average chlorides is only 0.087).\n",
    "\n",
    "#### Ans:\n",
    "The qualitative results from my model is attached to the next cell code.\n",
    "According to the resulted beta, the density is the most important feature as the beta parameter for it is the highest and are positively related.\n",
    "I think the magnitude of the features in X may affect the results. For example, the variance of total sulfur dioxide across red wine is 1081.42563558916 while the variance of chlorides is only 0.002213757323311435.\n",
    "Also, we can expect after taking normalization, the most important feature will change. The magnitude of the features in X affect this result because it will affect the magnitude of beta_hat."
   ]
  },
  {
   "cell_type": "code",
   "execution_count": 13,
   "metadata": {},
   "outputs": [
    {
     "name": "stdout",
     "output_type": "stream",
     "text": [
      "The qualitative results from my model for training data set:  531.5647890105664\n",
      "\n",
      "The qualitative results from my model for test data set:  136.2985526469571\n"
     ]
    }
   ],
   "source": [
    "print(\"The qualitative results from my model for training data set: \", res.fun)\n",
    "print()\n",
    "print(\"The qualitative results from my model for test data set: \", RSS(res.x, x_test, y_test))"
   ]
  },
  {
   "cell_type": "markdown",
   "metadata": {},
   "source": [
    "#### Q2: \n",
    "How well does your model fit? You should be able to measure the goodness of fit, RSS, on both the training data and the test data, but only report the results on the test data. In Machine Learning we almost always only care about how well the model fits on data that has not been used to fit the model, because we need to use the model in the future, not the past. Therefore, we only report performance with holdout data, or test data."
   ]
  },
  {
   "cell_type": "code",
   "execution_count": 14,
   "metadata": {},
   "outputs": [
    {
     "name": "stdout",
     "output_type": "stream",
     "text": [
      "RSS for training data:  531.5647890105664\n",
      "RSS for test data:  136.2985526469571  And this is the goodness of fit to be reported.\n"
     ]
    }
   ],
   "source": [
    "# RSS for training data\n",
    "print('RSS for training data: ', res.fun)\n",
    "\n",
    "# RSS for training data\n",
    "res_test = RSS(res.x, x_test, y_test)\n",
    "print('RSS for test data: ', res_test, ' And this is the goodness of fit to be reported.')"
   ]
  },
  {
   "cell_type": "code",
   "execution_count": 16,
   "metadata": {},
   "outputs": [
    {
     "name": "stdout",
     "output_type": "stream",
     "text": [
      "R^2 for train data:  quality    0.364367\n",
      "dtype: float64\n",
      "R^2 is the goodness of fit to be reported:  quality    0.337462\n",
      "dtype: float64\n"
     ]
    }
   ],
   "source": [
    "tss_train = np.sum((y_train-np.mean(y_train))**2)\n",
    "tss_test = np.sum((y_test-np.mean(y_test))**2)\n",
    "print('R^2 for train data: ', 1-res.fun/tss_train)\n",
    "print('R^2 is the goodness of fit to be reported: ', 1-res_test/tss_test)"
   ]
  },
  {
   "cell_type": "markdown",
   "metadata": {},
   "source": [
    "#### Q3:\n",
    "Does the end result or RSS change if you try different initial values of β? What happens if you change the magnitude of the initial β?"
   ]
  },
  {
   "cell_type": "code",
   "execution_count": 17,
   "metadata": {},
   "outputs": [
    {
     "name": "stdout",
     "output_type": "stream",
     "text": [
      "With initail values of β being from (-1,1):  531.5647890105427 \n",
      " And the RSS change is:  2.376054908381775e-11\n",
      "With initail values of β being from (-1,0):  531.564789010559 \n",
      " And the RSS change is:  7.389644451905042e-12\n"
     ]
    }
   ],
   "source": [
    "beta1 = np.random.normal(-1, 1, x_train.shape[1])\n",
    "res1 = minimize(fun=RSS, x0=beta1, args=(x_train,y_train))\n",
    "rss_change1 = res.fun - res1.fun\n",
    "print('With initail values of β being from (-1,1): ', res1.fun, '\\n', 'And the RSS change is: ', rss_change1)\n",
    "\n",
    "beta2 = np.random.normal(-1, 0, x_train.shape[1])\n",
    "res2 = minimize(fun=RSS, x0=beta2, args=(x_train,y_train))\n",
    "rss_change2 = res.fun - res2.fun\n",
    "print('With initail values of β being from (-1,0): ', res2.fun, '\\n', 'And the RSS change is: ', rss_change2)"
   ]
  },
  {
   "cell_type": "markdown",
   "metadata": {},
   "source": [
    "#### Ans:\n",
    "Therefore, changing the magnitude of the initial β will not result in RSS change."
   ]
  },
  {
   "cell_type": "markdown",
   "metadata": {},
   "source": [
    "#### Q4: \n",
    "Does the choice of solver method change the end result or RSS?"
   ]
  },
  {
   "cell_type": "code",
   "execution_count": 21,
   "metadata": {},
   "outputs": [
    {
     "name": "stdout",
     "output_type": "stream",
     "text": [
      "End result with \"Nelder-Mead\" method is:  [4.88667573 5.58262314 6.35373584 ... 6.36167389 5.88923389 5.52369961] \n",
      " RSS with \"Nelder-Mead\" method is:  186.44282247844174\n",
      "\n",
      "End result with \"Powell\" method is:  [5.62333296 5.04812949 7.45189458 ... 6.28268444 5.64495839 5.61230925] \n",
      " RSS with \"Powell\" method is:  136.73024369131002\n",
      "\n",
      "End result with \"CG\" method is:  [5.60792745 5.04479145 7.37628293 ... 6.29285691 5.68458952 5.62437182] \n",
      " RSS with \"CG\" method is:  136.27409863100036\n",
      "\n",
      "End result with \"BFGS\" method is:  [5.61047959 5.04535353 7.38436936 ... 6.29063881 5.67933405 5.6228695 ] \n",
      " RSS with \"BFGS\" method is:  136.2985526469571\n",
      "\n"
     ]
    }
   ],
   "source": [
    "# method = Nelder-Mead\n",
    "res_Nelder_Mead = minimize(fun=RSS, x0=beta0, args=(x_train,y_train), method = 'Nelder-Mead')\n",
    "end_result_Nelder_Mead = y_hat(x_train, res_Nelder_Mead.x)\n",
    "RSS_Nelder_Mead = RSS(res_Nelder_Mead.x, x_test, y_test)\n",
    "print('End result with \"Nelder-Mead\" method is: ', end_result_Nelder_Mead, '\\n','RSS with \"Nelder-Mead\" method is: ',RSS_Nelder_Mead)\n",
    "print()\n",
    "# method = Powell\n",
    "res_Powell = minimize(fun=RSS, x0=beta0, args=(x_train,y_train), method = 'Powell')\n",
    "end_result_Powell = y_hat(x_train, res_Powell.x)\n",
    "RSS_Powell = RSS(res_Powell.x, x_test, y_test)\n",
    "print('End result with \"Powell\" method is: ', end_result_Powell, '\\n','RSS with \"Powell\" method is: ',RSS_Powell)\n",
    "print()\n",
    "# method = CG\n",
    "res_CG = minimize(fun=RSS, x0=beta0, args=(x_train,y_train), method = 'CG')\n",
    "end_result_CG = y_hat(x_train, res_CG.x)\n",
    "RSS_CG = RSS(res_CG.x, x_test, y_test)\n",
    "print('End result with \"CG\" method is: ', end_result_CG, '\\n','RSS with \"CG\" method is: ',RSS_CG)\n",
    "print()\n",
    "# method = BFGS\n",
    "res_BFGS = minimize(fun=RSS, x0=beta0, args=(x_train,y_train), method = 'BFGS')\n",
    "end_result_BFGS = y_hat(x_train, res_BFGS.x)\n",
    "RSS_BFGS = RSS(res_BFGS.x, x_test, y_test)\n",
    "print('End result with \"BFGS\" method is: ', end_result_BFGS, '\\n','RSS with \"BFGS\" method is: ',RSS_BFGS)\n",
    "print()"
   ]
  },
  {
   "cell_type": "markdown",
   "metadata": {},
   "source": [
    "#### Ans:\n",
    "Thus, changing of solver method does change the end result and RSS!"
   ]
  },
  {
   "cell_type": "markdown",
   "metadata": {},
   "source": [
    "# Regularizing the model\n",
    "#### Q1\n",
    "Try adding in an L2 (aka Ridge) regularization penalty to your model above to create a new, regularized model. See equation 3.41 for guidance. You will need to choose a value of lambda, so start with something small, like 0.01.\n",
    "\n",
    "$$ RSS(β) =\\sum(y_i-\\sum(x_{ij}*β_j))^2 + λ*β^T*β = \\sum(y_i - \\widehat{y_i})^2 + λ*β^T*β$$\n"
   ]
  },
  {
   "cell_type": "code",
   "execution_count": 22,
   "metadata": {},
   "outputs": [],
   "source": [
    "def RSS_L2(β, x, y, λ):\n",
    "    y = np.array(y.T)[0]\n",
    "    res = y - y_hat(x, β)\n",
    "    rss = np.sum(res**2) + λ* np.dot(np.transpose(β), β)\n",
    "    return rss"
   ]
  },
  {
   "cell_type": "markdown",
   "metadata": {},
   "source": [
    "#### • Q1.1\n",
    "How does RSS on the training data change? How does RSS on the test data change?"
   ]
  },
  {
   "cell_type": "code",
   "execution_count": 23,
   "metadata": {},
   "outputs": [
    {
     "name": "stdout",
     "output_type": "stream",
     "text": [
      "RSS on the training data change with L2 penalty is:  531.8183229141952\n",
      "RSS on the training data change with L2 penalty is:  136.56210063888594\n",
      "RSS on the training data nearly has no change.\n",
      "RSS on the test data also nearly has no change.\n"
     ]
    }
   ],
   "source": [
    "res_train_001 = minimize(fun=RSS_L2, x0=beta0, args=(x_train,y_train,0.01))\n",
    "print('RSS on the training data change with L2 penalty is: ', res_train_001.fun)\n",
    "\n",
    "res_test_001 = RSS_L2(res_train_001.x, x_test, y_test,0.01)\n",
    "print('RSS on the training data change with L2 penalty is: ', res_test_001)\n",
    "\n",
    "print('RSS on the training data nearly has no change.')\n",
    "print('RSS on the test data also nearly has no change.')"
   ]
  },
  {
   "cell_type": "markdown",
   "metadata": {},
   "source": [
    "RSS on both the training data and the test data slightly increase."
   ]
  },
  {
   "cell_type": "markdown",
   "metadata": {},
   "source": [
    "#### •Q1.2\n",
    "What happens if you try different values of lambda? Can you tune lambda to get the best results on the test data?\n",
    "\n",
    "#### Ans:\n",
    "Trying different values of lambda, the model coefficients will change."
   ]
  },
  {
   "cell_type": "code",
   "execution_count": 24,
   "metadata": {},
   "outputs": [
    {
     "data": {
      "image/png": "[encoded data removed]",
      "text/plain": [
       "<Figure size 432x288 with 1 Axes>"
      ]
     },
     "metadata": {},
     "output_type": "display_data"
    }
   ],
   "source": [
    "λs = 10**np.linspace(-3,3,100)\n",
    "ridge_cofficients = []\n",
    "\n",
    "for λ in λs:\n",
    "    ridge = Ridge(alpha = λ, normalize=True)\n",
    "    ridge.fit(x_train, y_train)\n",
    "    ridge_cofficients.append(ridge.coef_[0])\n",
    "\n",
    "# print(ridge_cofficients)\n",
    "plt.style.use('ggplot')\n",
    "plt.plot(λs, ridge_cofficients)\n",
    "plt.xscale('log')\n",
    "plt.axis('tight')\n",
    "plt.title('λ-beta')\n",
    "plt.xlabel('Log Alpha')\n",
    "plt.ylabel('Cofficients')\n",
    "plt.show()\n"
   ]
  },
  {
   "cell_type": "markdown",
   "metadata": {},
   "source": [
    "#### According to the diagram, the λ should be really samll and close to 0, from where all coeeficients tend to be stable. I will use cross-validation and grid search to double check my hypothesis as below."
   ]
  },
  {
   "cell_type": "code",
   "execution_count": 25,
   "metadata": {},
   "outputs": [
    {
     "name": "stdout",
     "output_type": "stream",
     "text": [
      "0.07564633275546291\n"
     ]
    }
   ],
   "source": [
    "warnings.filterwarnings('ignore')\n",
    "ridge_cv = RidgeCV(alphas = λs, normalize = True, cv = 10)\n",
    "ridge_cv.fit(x_train, y_train)\n",
    "ridge_best_lambda = ridge_cv.alpha_\n",
    "print(ridge_best_lambda)"
   ]
  },
  {
   "cell_type": "code",
   "execution_count": 98,
   "metadata": {},
   "outputs": [
    {
     "name": "stdout",
     "output_type": "stream",
     "text": [
      "0.0 136.2985526469571\n"
     ]
    },
    {
     "data": {
      "image/png": "[encoded data removed]",
      "text/plain": [
       "<Figure size 432x288 with 1 Axes>"
      ]
     },
     "metadata": {},
     "output_type": "display_data"
    }
   ],
   "source": [
    "λs = np.linspace(0,3,100)\n",
    "r = []\n",
    "for lmda in λs:\n",
    "    res_ = minimize(fun = RSS_L2, x0 = beta0, args = (x_train, y_train, lmda))\n",
    "    beta_L2 = res_.x\n",
    "    r.append(RSS_L2(beta_L2,x_test,y_test,lmda))\n",
    "best_lmda_L2 = λs[np.argmin(r)]\n",
    "best_RSS = min(r)\n",
    "print(best_lmda_L2,best_RSS)\n",
    "plt.plot(λs,r)\n",
    "plt.show()"
   ]
  },
  {
   "cell_type": "markdown",
   "metadata": {},
   "source": [
    "By grid search, the best λ is 0. Thus, we cannot tune λ to get the lowest RSS. Also, adding L2 regularization, the RSS for both trainning data and test data increase slightly. So there is useless to tune λ."
   ]
  },
  {
   "cell_type": "markdown",
   "metadata": {},
   "source": [
    "#### Q2\n",
    "Now try using an L1 (aka Lasso) regularization penalty instead. See equation 3.51 for example. Report your findings on how RSS changes, and if you can roughly tune lambda.\n",
    "$$RSS(β) = \\sum(y_i-\\widehat{y_i})^2+ \\lambda \\sum|\\widehat{\\beta_k}|$$"
   ]
  },
  {
   "cell_type": "code",
   "execution_count": 73,
   "metadata": {},
   "outputs": [],
   "source": [
    "def RSS_L1(β, x, y, λ):\n",
    "    y = np.array(y.T)[0]\n",
    "    res = y - y_hat(x, β)\n",
    "    rss = np.sum(res**2) + λ* np.sum(np.abs(β))\n",
    "    return rss"
   ]
  },
  {
   "cell_type": "code",
   "execution_count": 74,
   "metadata": {},
   "outputs": [
    {
     "name": "stdout",
     "output_type": "stream",
     "text": [
      "RSS on the training data change with L1 penalty is:  531.659023081383\n",
      "RSS on the training data change with L1 penalty is:  136.4048554060495\n",
      "RSS on the training data nearly has no change.\n",
      "RSS on the test data also nearly has no change.\n"
     ]
    }
   ],
   "source": [
    "res_train_001_L1 = minimize(fun=RSS_L1, x0=beta0, args=(x_train,y_train,0.01))\n",
    "print('RSS on the training data change with L1 penalty is: ', res_train_001_L1.fun)\n",
    "\n",
    "res_test_001_L1 = RSS_L1(res_train_001.x, x_test, y_test,0.01)\n",
    "print('RSS on the training data change with L1 penalty is: ', res_test_001_L1)\n",
    "\n",
    "print('RSS on the training data nearly has no change.')\n",
    "print('RSS on the test data also nearly has no change.')"
   ]
  },
  {
   "cell_type": "markdown",
   "metadata": {},
   "source": [
    "#### Ans:\n",
    "Trying different values of lambda, the model coefficients will change."
   ]
  },
  {
   "cell_type": "code",
   "execution_count": 76,
   "metadata": {},
   "outputs": [
    {
     "data": {
      "image/png": "[encoded data removed]",
      "text/plain": [
       "<Figure size 432x288 with 1 Axes>"
      ]
     },
     "metadata": {},
     "output_type": "display_data"
    }
   ],
   "source": [
    "λs = 10**np.linspace(-3,3,100)\n",
    "lasso_cofficients = []\n",
    "\n",
    "for λ in λs:\n",
    "    lasso = Lasso(alpha = λ, normalize=True, max_iter=10000)\n",
    "    lasso.fit(x_train, y_train)\n",
    "    lasso_cofficients.append(lasso.coef_)\n",
    "\n",
    "# print(ridge_cofficients)\n",
    "plt.style.use('ggplot')\n",
    "plt.plot(λs, lasso_cofficients)\n",
    "plt.xscale('log')\n",
    "plt.axis('tight')\n",
    "plt.title('λ-beta')\n",
    "plt.xlabel('Log Alpha')\n",
    "plt.ylabel('Cofficients')\n",
    "plt.show()\n"
   ]
  },
  {
   "cell_type": "markdown",
   "metadata": {},
   "source": [
    "#### According to the diagram, the λ should be around 0, from where all coeeficients tend to be stable. I will use cross-validation and grid search to double check my hypothesis as below."
   ]
  },
  {
   "cell_type": "code",
   "execution_count": 77,
   "metadata": {},
   "outputs": [
    {
     "name": "stdout",
     "output_type": "stream",
     "text": [
      "0.001\n"
     ]
    }
   ],
   "source": [
    "lasso_cv = LassoCV(alphas = λs, normalize=True, cv = 10, max_iter=10000)\n",
    "lasso_cv.fit(x_train, y_train.values.ravel())\n",
    "lasso_best_lambda = lasso_cv.alpha_\n",
    "print(lasso_best_lambda)"
   ]
  },
  {
   "cell_type": "code",
   "execution_count": 99,
   "metadata": {},
   "outputs": [
    {
     "name": "stdout",
     "output_type": "stream",
     "text": [
      "1e-05 136.29864777721764\n"
     ]
    },
    {
     "data": {
      "image/png": "[encoded data removed]",
      "text/plain": [
       "<Figure size 432x288 with 1 Axes>"
      ]
     },
     "metadata": {},
     "output_type": "display_data"
    }
   ],
   "source": [
    "λs = 10**np.linspace(-5,3,100)\n",
    "r = []\n",
    "for lmda in λs:\n",
    "    res_ = minimize(fun = RSS_L1, x0 = beta0, args = (x_train, y_train, lmda))\n",
    "    beta_L1 = res_.x\n",
    "    r.append(RSS_L1(beta_L1,x_test,y_test,lmda))\n",
    "best_lmda_L1 = λs[np.argmin(r)]\n",
    "best_RSS = min(r)\n",
    "print(best_lmda_L1,best_RSS)\n",
    "plt.plot(λs,r)\n",
    "plt.show()"
   ]
  },
  {
   "cell_type": "markdown",
   "metadata": {},
   "source": [
    "The smaller value lambda is, the smaller RSS we get on test data. We cannot tune lamda because we can select infinite values that are really close to 0 to get better results. Also, after adding regularization, RSS for both training and test data incease slightly. Thus we cannot tune lamda"
   ]
  },
  {
   "cell_type": "markdown",
   "metadata": {},
   "source": [
    "#### • Q2.1\n",
    "Again, do you think that the magnitude of the features in X may affect the results with regularization"
   ]
  },
  {
   "cell_type": "code",
   "execution_count": 102,
   "metadata": {},
   "outputs": [
    {
     "name": "stdout",
     "output_type": "stream",
     "text": [
      "1065066.8744268077\n",
      "1065066.8745039094\n"
     ]
    }
   ],
   "source": [
    "print(RSS_L2(beta0, x_test, y_test, best_lmda_L2))\n",
    "print(RSS_L1(beta0, x_test, y_test, best_lmda_L1))"
   ]
  },
  {
   "cell_type": "markdown",
   "metadata": {},
   "source": [
    "#### Ans\n",
    "Yes, as the RSS for both regularization increase a lot, I think the magnitude of the features in X may affect the results with regularization and we can use nomalization to help us verify this."
   ]
  },
  {
   "cell_type": "code",
   "execution_count": 112,
   "metadata": {},
   "outputs": [],
   "source": [
    "# def norm(x):\n",
    "#     return x-min(x)/max(x)-min(x)\n",
    "# x_train_copy = x_train.copy()\n",
    "# x_test_copy = x_test.copy()\n",
    "# for i in range(11):\n",
    "#     x_train_copy.iloc[:,i] = norm(x_train_copy.iloc[:,i])\n",
    "# res = minimize(fun = RSS_L1, x0 = beta0, args = (x_train_copy,y_train,best_lmda))\n",
    "# beta_hat = res.x\n",
    "# RSS_L1(beta_hat,x_test, y_test, best_lmda_L1)"
   ]
  },
  {
   "cell_type": "code",
   "execution_count": null,
   "metadata": {},
   "outputs": [],
   "source": []
  }
 ],
 "metadata": {
  "kernelspec": {
   "display_name": "Python 3",
   "language": "python",
   "name": "python3"
  },
  "language_info": {
   "codemirror_mode": {
    "name": "ipython",
    "version": 3
   },
   "file_extension": ".py",
   "mimetype": "text/x-python",
   "name": "python",
   "nbconvert_exporter": "python",
   "pygments_lexer": "ipython3",
   "version": "3.7.3"
  }
 },
 "nbformat": 4,
 "nbformat_minor": 2
}
